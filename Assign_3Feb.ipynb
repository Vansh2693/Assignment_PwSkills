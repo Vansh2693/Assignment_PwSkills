{
 "cells": [
  {
   "cell_type": "code",
   "execution_count": 1,
   "id": "3b8feb26-53eb-4a20-86a9-e94266380cd5",
   "metadata": {},
   "outputs": [],
   "source": [
    "#Q1. Which keyword is used to create a function? Create a function to return a list of odd numbers in the\n",
    "#range of 1 to 25."
   ]
  },
  {
   "cell_type": "code",
   "execution_count": null,
   "id": "463bc42a-cc86-4df4-90d4-591c9049c8e7",
   "metadata": {},
   "outputs": [],
   "source": [
    "'def' keyword is used to create a function in Python.\n",
    "Function :"
   ]
  },
  {
   "cell_type": "code",
   "execution_count": 22,
   "id": "8284e364-eb2a-4b6b-87cc-d0e9e658650b",
   "metadata": {},
   "outputs": [
    {
     "name": "stdout",
     "output_type": "stream",
     "text": [
      "[2, 4, 6, 8, 10, 12, 14, 16, 18, 20, 22, 24]\n"
     ]
    }
   ],
   "source": [
    "def oddfrom1to25():\n",
    "    lst =[]\n",
    "    for i in range(1,26):\n",
    "        if i%2==0:\n",
    "            lst.append(i)\n",
    "    return lst\n",
    "print(oddfrom1to25())    \n",
    "    "
   ]
  },
  {
   "cell_type": "code",
   "execution_count": 23,
   "id": "39da6495-b48f-4c15-923b-7da9977b5988",
   "metadata": {},
   "outputs": [],
   "source": [
    "#Why *args and **kwargs is used in some functions? Create a function each for *args and **kwargs\n",
    "#to demonstrate their use."
   ]
  },
  {
   "cell_type": "code",
   "execution_count": null,
   "id": "c5efcf1d-3284-4707-bcc0-3baeb9476aec",
   "metadata": {},
   "outputs": [],
   "source": [
    "*args is a keyword used in function header. To give multiple('n' number) arguments we use *args keyword and it does not return the result\n",
    "in the form of key value pair.\n",
    "**kwargs is a keyword used in function header wherein we can give multiple inputs and it returns the result in form of key-value pair."
   ]
  },
  {
   "cell_type": "code",
   "execution_count": 24,
   "id": "306dc485-742d-4be3-89ee-4b538fd75bd3",
   "metadata": {},
   "outputs": [
    {
     "name": "stdout",
     "output_type": "stream",
     "text": [
      "720\n"
     ]
    }
   ],
   "source": [
    "def mul(*args):\n",
    "    prod = 1\n",
    "    for i in args:\n",
    "        prod*=i\n",
    "    return prod\n",
    "print(mul(1,2,3,4,5,6))"
   ]
  },
  {
   "cell_type": "code",
   "execution_count": 37,
   "id": "8f90c3e4-0456-409d-bfdb-ee9d04e5e92f",
   "metadata": {},
   "outputs": [
    {
     "name": "stdout",
     "output_type": "stream",
     "text": [
      "('APPLE', 'USA')\n",
      "('PHYSICSWALLAH', 'INDIA')\n",
      "('PHILLIPS', 'NETHERLANDS')\n"
     ]
    }
   ],
   "source": [
    "def company(**kwargs):\n",
    "    for i in kwargs.items():\n",
    "        print(i)\n",
    "company(APPLE='USA',PHYSICSWALLAH='INDIA',PHILLIPS='NETHERLANDS')"
   ]
  },
  {
   "cell_type": "code",
   "execution_count": 38,
   "id": "1b15c9bc-a9ff-41b5-b826-d5c320592b42",
   "metadata": {},
   "outputs": [],
   "source": [
    "#What is an iterator in python? Name the method used to initialise the iterator object and the method\n",
    "#used for iteration. Use these methods to print the first five elements of the given list [2, 4, 6, 8, 10, 12, 14,\n",
    "#16, 18, 20]."
   ]
  },
  {
   "cell_type": "code",
   "execution_count": null,
   "id": "1b7afc2d-db8f-4da2-8939-7a3cec52b75e",
   "metadata": {},
   "outputs": [],
   "source": [
    "Iterator is an object used to traverse through all the values of a specific datatype using next() method. We use iter() method\n",
    "to convert an iterable into iterator. For initia;ization of iterator we use iter() method and for iteration we use next() method."
   ]
  },
  {
   "cell_type": "code",
   "execution_count": 39,
   "id": "dcd74a19-515e-4230-a34f-73beb3f7df4d",
   "metadata": {},
   "outputs": [
    {
     "name": "stdout",
     "output_type": "stream",
     "text": [
      "2\n",
      "4\n",
      "6\n",
      "8\n",
      "10\n"
     ]
    }
   ],
   "source": [
    "lst = [2,4,6,8,10,12,14,16,18,20]\n",
    "l = iter(lst)\n",
    "for i in range(5):\n",
    "    print(next(l))"
   ]
  },
  {
   "cell_type": "code",
   "execution_count": null,
   "id": "8fa4b872-ce52-41e2-b771-2143016a7fd9",
   "metadata": {},
   "outputs": [],
   "source": [
    "#Q4. What is a generator function in python? Why yield keyword is used? Give an example of a generator\n",
    "#function.\n",
    "Ans. Generator function is similiar to normal function but it is used to generate a sequence of values. yield keyword is used\n",
    "to generate the values in form of sequence. A function with yield keyword is generator function, yield acts in a similiar way like return keyword. "
   ]
  },
  {
   "cell_type": "code",
   "execution_count": 44,
   "id": "1c23796f-427a-416f-84d8-5c0b8e61b1f5",
   "metadata": {},
   "outputs": [
    {
     "name": "stdout",
     "output_type": "stream",
     "text": [
      "1\n",
      "2\n",
      "3\n",
      "4\n",
      "5\n",
      "6\n",
      "7\n",
      "8\n",
      "9\n"
     ]
    }
   ],
   "source": [
    "def seq(n):\n",
    "    for i in range(1,n):\n",
    "        yield i\n",
    "for j in seq(10):\n",
    "    print(j)"
   ]
  },
  {
   "cell_type": "code",
   "execution_count": 45,
   "id": "13cebb96-675f-4d08-9650-477046cd15e6",
   "metadata": {},
   "outputs": [],
   "source": [
    "#Create a generator function for prime numbers less than 1000. Use the next() method to print the\n",
    "#first 20 prime numbers."
   ]
  },
  {
   "cell_type": "code",
   "execution_count": 6,
   "id": "d93c0fc2-5595-406b-8b8c-7d26fbe6b675",
   "metadata": {},
   "outputs": [
    {
     "name": "stdout",
     "output_type": "stream",
     "text": [
      "3\n",
      "4\n",
      "5\n",
      "7\n",
      "11\n",
      "13\n",
      "17\n",
      "19\n",
      "23\n",
      "29\n",
      "31\n",
      "37\n",
      "41\n",
      "43\n",
      "47\n",
      "53\n",
      "59\n",
      "61\n",
      "67\n",
      "71\n",
      "73\n"
     ]
    }
   ],
   "source": [
    "def prime():\n",
    "    n = 3\n",
    "    while n < 1000:\n",
    "        if (isPrime(n)):\n",
    "            yield n\n",
    "        n = n + 1\n",
    "    \n",
    "def isPrime(n):\n",
    "    for i in range(2, n//2):\n",
    "        if (n % i == 0):\n",
    "            return False\n",
    "    return True\n",
    "\n",
    "y = prime()\n",
    "for x in range(21):\n",
    "      print(next(y))\n"
   ]
  },
  {
   "cell_type": "code",
   "execution_count": null,
   "id": "09e66896-cc56-473f-ae80-69e0fa81eabc",
   "metadata": {},
   "outputs": [],
   "source": [
    "#Q6. Write a python program to print the first 10 Fibonacci numbers using a while loop."
   ]
  },
  {
   "cell_type": "code",
   "execution_count": 4,
   "id": "d3af6cef-5e05-4a22-9137-c76d76591924",
   "metadata": {},
   "outputs": [
    {
     "name": "stdout",
     "output_type": "stream",
     "text": [
      "0\n",
      "1\n",
      "1\n",
      "2\n",
      "3\n",
      "5\n",
      "8\n",
      "13\n",
      "21\n",
      "34\n"
     ]
    }
   ],
   "source": [
    "n = 10\n",
    "a,b = 0,1\n",
    "e = 0\n",
    "while e<n:\n",
    "    print(a)\n",
    "    a,b = b,a+b\n",
    "    e=e+1"
   ]
  },
  {
   "cell_type": "code",
   "execution_count": null,
   "id": "7f08d951-bd0b-4a3b-9047-8cbce7e056ca",
   "metadata": {},
   "outputs": [],
   "source": [
    "#Write a List Comprehension to iterate through the given string: ‘pwskills’.\n",
    "#Expected output: ['p', 'w', 's', 'k', 'i', 'l', 'l', 's']"
   ]
  },
  {
   "cell_type": "code",
   "execution_count": 3,
   "id": "7cf5d0fc-4a93-4ace-8e72-3d50d0d07fa1",
   "metadata": {},
   "outputs": [
    {
     "data": {
      "text/plain": [
       "['p', 'w', 's', 'k', 'i', 'l', 'l', 's']"
      ]
     },
     "execution_count": 3,
     "metadata": {},
     "output_type": "execute_result"
    }
   ],
   "source": [
    "s1 = 'pwskills'\n",
    "[ i for i in s1]"
   ]
  },
  {
   "cell_type": "code",
   "execution_count": null,
   "id": "f2a7363f-5269-4cf0-acdd-0b44d091d48b",
   "metadata": {},
   "outputs": [],
   "source": [
    "#Q8. Write a python program to check whether a given number is Palindrome or not using a while loop."
   ]
  },
  {
   "cell_type": "code",
   "execution_count": 9,
   "id": "0f3e14b7-b425-4f0f-b2ae-ead5efe39b20",
   "metadata": {},
   "outputs": [
    {
     "name": "stdin",
     "output_type": "stream",
     "text": [
      "Enter a number 121\n"
     ]
    },
    {
     "name": "stdout",
     "output_type": "stream",
     "text": [
      "121 is a Palindrome\n"
     ]
    }
   ],
   "source": [
    "n = int(input(\"Enter a number\"))\n",
    "temp = n\n",
    "rev = 0\n",
    "while n>0:\n",
    "    a = n%10\n",
    "    rev = rev*10+a\n",
    "    n=n//10\n",
    "\n",
    "if temp==rev:\n",
    "    print(temp,\"is a Palindrome\")\n",
    "else:\n",
    "    print(temp,\"is not a Palindrome\")\n",
    "    \n",
    "    "
   ]
  },
  {
   "cell_type": "code",
   "execution_count": null,
   "id": "796500f4-7049-4eea-a4ae-fca6fff3d925",
   "metadata": {},
   "outputs": [],
   "source": [
    "#Q9. Write a code to print odd numbers from 1 to 100 using list comprehension."
   ]
  },
  {
   "cell_type": "code",
   "execution_count": 10,
   "id": "5ebcadff-8a43-4d87-9b0c-57f3b0e1bbc8",
   "metadata": {},
   "outputs": [
    {
     "data": {
      "text/plain": [
       "[1,\n",
       " 3,\n",
       " 5,\n",
       " 7,\n",
       " 9,\n",
       " 11,\n",
       " 13,\n",
       " 15,\n",
       " 17,\n",
       " 19,\n",
       " 21,\n",
       " 23,\n",
       " 25,\n",
       " 27,\n",
       " 29,\n",
       " 31,\n",
       " 33,\n",
       " 35,\n",
       " 37,\n",
       " 39,\n",
       " 41,\n",
       " 43,\n",
       " 45,\n",
       " 47,\n",
       " 49,\n",
       " 51,\n",
       " 53,\n",
       " 55,\n",
       " 57,\n",
       " 59,\n",
       " 61,\n",
       " 63,\n",
       " 65,\n",
       " 67,\n",
       " 69,\n",
       " 71,\n",
       " 73,\n",
       " 75,\n",
       " 77,\n",
       " 79,\n",
       " 81,\n",
       " 83,\n",
       " 85,\n",
       " 87,\n",
       " 89,\n",
       " 91,\n",
       " 93,\n",
       " 95,\n",
       " 97,\n",
       " 99]"
      ]
     },
     "execution_count": 10,
     "metadata": {},
     "output_type": "execute_result"
    }
   ],
   "source": [
    "[i for i in range(1,101) if i%2!=0]"
   ]
  },
  {
   "cell_type": "code",
   "execution_count": null,
   "id": "75aab42b-cad1-4e48-b905-6ee58ff9bf95",
   "metadata": {},
   "outputs": [],
   "source": []
  }
 ],
 "metadata": {
  "kernelspec": {
   "display_name": "Python 3 (ipykernel)",
   "language": "python",
   "name": "python3"
  },
  "language_info": {
   "codemirror_mode": {
    "name": "ipython",
    "version": 3
   },
   "file_extension": ".py",
   "mimetype": "text/x-python",
   "name": "python",
   "nbconvert_exporter": "python",
   "pygments_lexer": "ipython3",
   "version": "3.10.8"
  }
 },
 "nbformat": 4,
 "nbformat_minor": 5
}
