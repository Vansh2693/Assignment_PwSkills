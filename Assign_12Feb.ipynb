{
 "cells": [
  {
   "cell_type": "code",
   "execution_count": null,
   "id": "d0c306b2-ac69-4a7c-aa39-1c3d3c2da9cb",
   "metadata": {},
   "outputs": [],
   "source": [
    "Q1. What is an Exception in python? Write the difference between Exceptions and syntax errors"
   ]
  },
  {
   "cell_type": "code",
   "execution_count": null,
   "id": "9e09a099-0741-4675-9e75-5df64e6d4dd5",
   "metadata": {},
   "outputs": [],
   "source": [
    "Ans. Errors detected during runtime are known as Exception. They are generally non-fatal and can be easily handled by the user.\n",
    "Syntax errors occur when the intrepreter encounters an error in Syntax of a given code. The major difference between Exceptions and \n",
    "Syntax error is that Syntax error are syntactic errors whereas Exceptions are logical error. Examples of Syntax error includes :\n",
    "    1. Missing a colon after for loop header.\n",
    "    2. Missing of operator between operands.\n",
    "Examples of Exceptions includes:\n",
    "    1. Indentation Error\n",
    "    2. Name Error"
   ]
  },
  {
   "cell_type": "code",
   "execution_count": null,
   "id": "68ecb24d-ed16-42a1-b209-96ff62298d53",
   "metadata": {},
   "outputs": [],
   "source": [
    "Q2. What happens when an Exception is not handled? Explain with an Example"
   ]
  },
  {
   "cell_type": "code",
   "execution_count": null,
   "id": "42f34558-3e38-49ed-8644-140fcb50f1ec",
   "metadata": {},
   "outputs": [],
   "source": [
    "Ans. When an Exception is not handled, we will not be able to proceed ahead with our code. It will keep on showing the error\n",
    "Example:"
   ]
  },
  {
   "cell_type": "code",
   "execution_count": 1,
   "id": "46c7db75-c0cd-467c-909d-f4b9043cc9f9",
   "metadata": {},
   "outputs": [
    {
     "ename": "NameError",
     "evalue": "name 'b' is not defined",
     "output_type": "error",
     "traceback": [
      "\u001b[0;31m---------------------------------------------------------------------------\u001b[0m",
      "\u001b[0;31mNameError\u001b[0m                                 Traceback (most recent call last)",
      "Cell \u001b[0;32mIn[1], line 2\u001b[0m\n\u001b[1;32m      1\u001b[0m a \u001b[38;5;241m=\u001b[39m \u001b[38;5;241m0\u001b[39m\n\u001b[0;32m----> 2\u001b[0m \u001b[38;5;28mprint\u001b[39m(\u001b[43mb\u001b[49m)\n",
      "\u001b[0;31mNameError\u001b[0m: name 'b' is not defined"
     ]
    }
   ],
   "source": [
    "a = 0\n",
    "print(b)"
   ]
  },
  {
   "cell_type": "code",
   "execution_count": 5,
   "id": "89dfd1be-e33e-413c-a561-9e1b5ba7840e",
   "metadata": {},
   "outputs": [
    {
     "ename": "SyntaxError",
     "evalue": "incomplete input (2079583115.py, line 3)",
     "output_type": "error",
     "traceback": [
      "\u001b[0;36m  Cell \u001b[0;32mIn[5], line 3\u001b[0;36m\u001b[0m\n\u001b[0;31m    print(b)\u001b[0m\n\u001b[0m            ^\u001b[0m\n\u001b[0;31mSyntaxError\u001b[0m\u001b[0;31m:\u001b[0m incomplete input\n"
     ]
    }
   ],
   "source": [
    "a = 0\n",
    "try:\n",
    "    print(b)\n"
   ]
  },
  {
   "cell_type": "code",
   "execution_count": null,
   "id": "d45114db-6cd9-4b6a-b312-bc00a36828e7",
   "metadata": {},
   "outputs": [],
   "source": [
    "Q.3 Which Python statements are used to catch and handle Exceptions? Explain with an Exapmle"
   ]
  },
  {
   "cell_type": "code",
   "execution_count": null,
   "id": "3aae9014-7b6d-4d1e-a732-722da7b95d45",
   "metadata": {},
   "outputs": [],
   "source": [
    "Ans. Try, Except , else and finally are used to catch and handle Exceptions.\n",
    "Example:"
   ]
  },
  {
   "cell_type": "code",
   "execution_count": 6,
   "id": "a1f60fab-35a5-4aef-a0f5-7a05a6b8313c",
   "metadata": {},
   "outputs": [
    {
     "name": "stdout",
     "output_type": "stream",
     "text": [
      "name 'b' is not defined\n"
     ]
    }
   ],
   "source": [
    "a = 0\n",
    "try:\n",
    "    print(b)\n",
    "except Exception as e:\n",
    "    print(e)\n",
    "    "
   ]
  },
  {
   "cell_type": "code",
   "execution_count": 7,
   "id": "4ce625ac-43f7-4e86-88cc-61150101d237",
   "metadata": {},
   "outputs": [
    {
     "name": "stdout",
     "output_type": "stream",
     "text": [
      "0\n",
      "Else will get excecuted if try block is true\n"
     ]
    }
   ],
   "source": [
    "a = 0\n",
    "try:\n",
    "    print(a)\n",
    "except Exception as e:\n",
    "    print(e)\n",
    "else:\n",
    "    print(\"Else will get excecuted if try block is true\")"
   ]
  },
  {
   "cell_type": "code",
   "execution_count": 8,
   "id": "77c0c7cf-0a34-49e7-bd28-07418502cadc",
   "metadata": {},
   "outputs": [
    {
     "name": "stdout",
     "output_type": "stream",
     "text": [
      "name 'b' is not defined\n",
      "Finally will get executed regardless of try and except conditions\n"
     ]
    }
   ],
   "source": [
    "a = 0\n",
    "try:\n",
    "    print(b)\n",
    "except Exception as e:\n",
    "    print(e)\n",
    "else:\n",
    "    print(\"Else will get excecuted if try block is true\")\n",
    "finally:\n",
    "    print(\"Finally will get executed regardless of try and except conditions\")"
   ]
  },
  {
   "cell_type": "code",
   "execution_count": null,
   "id": "dbf803c2-4290-4cb7-97c7-b9f06c52e618",
   "metadata": {},
   "outputs": [],
   "source": [
    "Q.4 Explain with an example:\n",
    "    1. try and else"
   ]
  },
  {
   "cell_type": "code",
   "execution_count": 12,
   "id": "6fcf03fe-a6e4-40d8-ba67-cad121f6095f",
   "metadata": {},
   "outputs": [
    {
     "name": "stdout",
     "output_type": "stream",
     "text": [
      "Hello\n",
      "String after Concatenation is: Hello\n"
     ]
    }
   ],
   "source": [
    "#Ans. \n",
    "a = \"Hel\"\n",
    "b = \"lo\"\n",
    "try:\n",
    "    c = a+b\n",
    "    print(c)\n",
    "except Exception as e:\n",
    "    print(e)\n",
    "else:\n",
    "    print(\"String after Concatenation is:\",c)\n",
    "            "
   ]
  },
  {
   "cell_type": "code",
   "execution_count": null,
   "id": "49a4d9d8-7c20-417b-bb1c-fa294cb61d78",
   "metadata": {},
   "outputs": [],
   "source": [
    "2. finally"
   ]
  },
  {
   "cell_type": "code",
   "execution_count": 13,
   "id": "005fa2af-e818-4097-93e7-abc55eded5bf",
   "metadata": {},
   "outputs": [
    {
     "name": "stdout",
     "output_type": "stream",
     "text": [
      "Hello\n",
      "I don't care about try and except\n"
     ]
    }
   ],
   "source": [
    "#Ans. \n",
    "a = \"Hel\"\n",
    "b = \"lo\"\n",
    "try:\n",
    "    c = a+b\n",
    "    print(c)\n",
    "except Exception as e:\n",
    "    print(e)\n",
    "finally:\n",
    "    print(\"I don't care about try and except\")"
   ]
  },
  {
   "cell_type": "code",
   "execution_count": null,
   "id": "9e3a3d67-a49e-4420-a771-2cbfeda40320",
   "metadata": {},
   "outputs": [],
   "source": [
    "3. raise"
   ]
  },
  {
   "cell_type": "code",
   "execution_count": 16,
   "id": "00cdce4c-e8ef-43a1-8870-f09111615056",
   "metadata": {},
   "outputs": [
    {
     "name": "stdin",
     "output_type": "stream",
     "text": [
      "Enter first String: Hello\n",
      "Enter Second String 2\n"
     ]
    },
    {
     "ename": "Concat_error",
     "evalue": "Can only concatenated data of same type",
     "output_type": "error",
     "traceback": [
      "\u001b[0;31m---------------------------------------------------------------------------\u001b[0m",
      "\u001b[0;31mConcat_error\u001b[0m                              Traceback (most recent call last)",
      "Cell \u001b[0;32mIn[16], line 12\u001b[0m\n\u001b[1;32m     10\u001b[0m     \u001b[38;5;28;01melse\u001b[39;00m:\n\u001b[1;32m     11\u001b[0m         c \u001b[38;5;241m=\u001b[39m a\u001b[38;5;241m+\u001b[39mb\n\u001b[0;32m---> 12\u001b[0m \u001b[43mErr\u001b[49m\u001b[43m(\u001b[49m\u001b[43m)\u001b[49m\n",
      "Cell \u001b[0;32mIn[16], line 9\u001b[0m, in \u001b[0;36mErr\u001b[0;34m()\u001b[0m\n\u001b[1;32m      7\u001b[0m b \u001b[38;5;241m=\u001b[39m \u001b[38;5;28mint\u001b[39m(\u001b[38;5;28minput\u001b[39m(\u001b[38;5;124m\"\u001b[39m\u001b[38;5;124mEnter Second String\u001b[39m\u001b[38;5;124m\"\u001b[39m))\n\u001b[1;32m      8\u001b[0m \u001b[38;5;28;01mif\u001b[39;00m \u001b[38;5;28mtype\u001b[39m(a)\u001b[38;5;241m!=\u001b[39m\u001b[38;5;28mtype\u001b[39m(b):\n\u001b[0;32m----> 9\u001b[0m     \u001b[38;5;28;01mraise\u001b[39;00m Concat_error(\u001b[38;5;124m\"\u001b[39m\u001b[38;5;124mCan only concatenated data of same type\u001b[39m\u001b[38;5;124m\"\u001b[39m)\n\u001b[1;32m     10\u001b[0m \u001b[38;5;28;01melse\u001b[39;00m:\n\u001b[1;32m     11\u001b[0m     c \u001b[38;5;241m=\u001b[39m a\u001b[38;5;241m+\u001b[39mb\n",
      "\u001b[0;31mConcat_error\u001b[0m: Can only concatenated data of same type"
     ]
    }
   ],
   "source": [
    "class Concat_error(Exception):\n",
    "        def __init__(self, info):\n",
    "            self.info = info\n",
    "\n",
    "def Err():\n",
    "    a = input(\"Enter first String:\")\n",
    "    b = int(input(\"Enter Second String\"))\n",
    "    if type(a)!=type(b):\n",
    "        raise Concat_error(\"Can only concatenated data of same type\")\n",
    "    else:\n",
    "        c = a+b\n",
    "Err()"
   ]
  },
  {
   "cell_type": "code",
   "execution_count": null,
   "id": "b674d9c2-3054-4b46-b775-6f144dbbbfff",
   "metadata": {},
   "outputs": [],
   "source": [
    "Q.5 What are Custom Exceptions in Python? Why do we need Cusotm Exceptions in Python? Explain with and Example"
   ]
  },
  {
   "cell_type": "code",
   "execution_count": null,
   "id": "a718a22d-50fc-4b53-ae00-aa70397f16cf",
   "metadata": {},
   "outputs": [],
   "source": [
    "Ans. Custom Exceptions are objects of error created by a user. We need Custom Exceptions to raise an Exception with a personalized message\n",
    "whenever we want. It gives flexibility to the user. Example:"
   ]
  },
  {
   "cell_type": "code",
   "execution_count": 23,
   "id": "793cd247-46fb-4369-81d0-aea86fc764a8",
   "metadata": {},
   "outputs": [
    {
     "name": "stdin",
     "output_type": "stream",
     "text": [
      "Enter a String: Hi\n",
      "Enter b String: H2\n"
     ]
    },
    {
     "ename": "Concat_error",
     "evalue": "Input data should be of Integer 'int' type",
     "output_type": "error",
     "traceback": [
      "\u001b[0;31m---------------------------------------------------------------------------\u001b[0m",
      "\u001b[0;31mConcat_error\u001b[0m                              Traceback (most recent call last)",
      "Cell \u001b[0;32mIn[23], line 14\u001b[0m\n\u001b[1;32m     12\u001b[0m     \u001b[38;5;28;01melse\u001b[39;00m:\n\u001b[1;32m     13\u001b[0m         c \u001b[38;5;241m=\u001b[39m a\u001b[38;5;241m+\u001b[39mb\n\u001b[0;32m---> 14\u001b[0m \u001b[43mErr\u001b[49m\u001b[43m(\u001b[49m\u001b[43m)\u001b[49m\n",
      "Cell \u001b[0;32mIn[23], line 11\u001b[0m, in \u001b[0;36mErr\u001b[0;34m()\u001b[0m\n\u001b[1;32m      9\u001b[0m     \u001b[38;5;28;01mraise\u001b[39;00m Concat_error(\u001b[38;5;124m\"\u001b[39m\u001b[38;5;124mInput data should be of String \u001b[39m\u001b[38;5;124m'\u001b[39m\u001b[38;5;124mstr\u001b[39m\u001b[38;5;124m'\u001b[39m\u001b[38;5;124m type\u001b[39m\u001b[38;5;124m\"\u001b[39m)\n\u001b[1;32m     10\u001b[0m \u001b[38;5;28;01mif\u001b[39;00m \u001b[38;5;28mtype\u001b[39m(b)\u001b[38;5;241m!=\u001b[39m\u001b[38;5;28mint\u001b[39m:\n\u001b[0;32m---> 11\u001b[0m     \u001b[38;5;28;01mraise\u001b[39;00m Concat_error(\u001b[38;5;124m\"\u001b[39m\u001b[38;5;124mInput data should be of Integer \u001b[39m\u001b[38;5;124m'\u001b[39m\u001b[38;5;124mint\u001b[39m\u001b[38;5;124m'\u001b[39m\u001b[38;5;124m type\u001b[39m\u001b[38;5;124m\"\u001b[39m)\n\u001b[1;32m     12\u001b[0m \u001b[38;5;28;01melse\u001b[39;00m:\n\u001b[1;32m     13\u001b[0m     c \u001b[38;5;241m=\u001b[39m a\u001b[38;5;241m+\u001b[39mb\n",
      "\u001b[0;31mConcat_error\u001b[0m: Input data should be of Integer 'int' type"
     ]
    }
   ],
   "source": [
    "class Concat_error(Exception):\n",
    "        def __init__(self, info):\n",
    "            self.info = info\n",
    "\n",
    "def Err():\n",
    "    a = input(\"Enter a String:\")\n",
    "    b = input(\"Enter b String:\")\n",
    "    if type(a)!=str:\n",
    "        raise Concat_error(\"Input data should be of String 'str' type\")\n",
    "    if type(b)!=int:\n",
    "        raise Concat_error(\"Input data should be of Integer 'int' type\")\n",
    "    else:\n",
    "        c = a+b\n",
    "Err()"
   ]
  },
  {
   "cell_type": "markdown",
   "id": "af62b068-aec6-4080-b02f-64694eac7b2f",
   "metadata": {},
   "source": [
    "Q.6 Create a Custom Exception class. Use this class to handle an Exception."
   ]
  },
  {
   "cell_type": "code",
   "execution_count": 24,
   "id": "7d8621b1-2abb-4e62-a824-a144557b8ff2",
   "metadata": {},
   "outputs": [
    {
     "name": "stdin",
     "output_type": "stream",
     "text": [
      "Enter first String: Hi\n",
      "Enter Second String 2\n"
     ]
    },
    {
     "ename": "Concat_error",
     "evalue": "Can only concatenated data of same type",
     "output_type": "error",
     "traceback": [
      "\u001b[0;31m---------------------------------------------------------------------------\u001b[0m",
      "\u001b[0;31mConcat_error\u001b[0m                              Traceback (most recent call last)",
      "Cell \u001b[0;32mIn[24], line 12\u001b[0m\n\u001b[1;32m     10\u001b[0m     \u001b[38;5;28;01melse\u001b[39;00m:\n\u001b[1;32m     11\u001b[0m         c \u001b[38;5;241m=\u001b[39m a\u001b[38;5;241m+\u001b[39mb\n\u001b[0;32m---> 12\u001b[0m \u001b[43mErr\u001b[49m\u001b[43m(\u001b[49m\u001b[43m)\u001b[49m\n",
      "Cell \u001b[0;32mIn[24], line 9\u001b[0m, in \u001b[0;36mErr\u001b[0;34m()\u001b[0m\n\u001b[1;32m      7\u001b[0m b \u001b[38;5;241m=\u001b[39m \u001b[38;5;28mint\u001b[39m(\u001b[38;5;28minput\u001b[39m(\u001b[38;5;124m\"\u001b[39m\u001b[38;5;124mEnter Second String\u001b[39m\u001b[38;5;124m\"\u001b[39m))\n\u001b[1;32m      8\u001b[0m \u001b[38;5;28;01mif\u001b[39;00m \u001b[38;5;28mtype\u001b[39m(a)\u001b[38;5;241m!=\u001b[39m\u001b[38;5;28mtype\u001b[39m(b):\n\u001b[0;32m----> 9\u001b[0m     \u001b[38;5;28;01mraise\u001b[39;00m Concat_error(\u001b[38;5;124m\"\u001b[39m\u001b[38;5;124mCan only concatenated data of same type\u001b[39m\u001b[38;5;124m\"\u001b[39m)\n\u001b[1;32m     10\u001b[0m \u001b[38;5;28;01melse\u001b[39;00m:\n\u001b[1;32m     11\u001b[0m     c \u001b[38;5;241m=\u001b[39m a\u001b[38;5;241m+\u001b[39mb\n",
      "\u001b[0;31mConcat_error\u001b[0m: Can only concatenated data of same type"
     ]
    }
   ],
   "source": [
    "class Concat_error(Exception):\n",
    "        def __init__(self, info):\n",
    "            self.info = info\n",
    "\n",
    "def Err():\n",
    "    a = input(\"Enter first String:\")\n",
    "    b = int(input(\"Enter Second String\"))\n",
    "    if type(a)!=type(b):\n",
    "        raise Concat_error(\"Can only concatenated data of same type\")\n",
    "    else:\n",
    "        c = a+b\n",
    "Err()"
   ]
  },
  {
   "cell_type": "code",
   "execution_count": null,
   "id": "bba997ad-1983-4c3a-b3a2-a91513d7239f",
   "metadata": {},
   "outputs": [],
   "source": []
  }
 ],
 "metadata": {
  "kernelspec": {
   "display_name": "Python 3 (ipykernel)",
   "language": "python",
   "name": "python3"
  },
  "language_info": {
   "codemirror_mode": {
    "name": "ipython",
    "version": 3
   },
   "file_extension": ".py",
   "mimetype": "text/x-python",
   "name": "python",
   "nbconvert_exporter": "python",
   "pygments_lexer": "ipython3",
   "version": "3.10.8"
  }
 },
 "nbformat": 4,
 "nbformat_minor": 5
}
