{
 "cells": [
  {
   "cell_type": "code",
   "execution_count": null,
   "id": "98b3bcf4-92fa-4384-871d-2845b59453ff",
   "metadata": {},
   "outputs": [],
   "source": [
    "Q.1 Explain Class and Object with respect to Object-Oriented Programming. Give a suitable example.\n",
    "Ans. \n",
    "Class is a collection of objects, methods and class. It is blueprint of objects. An object is an instance of a class.\n",
    "To create class we use a reserved keyword 'class' \n",
    "Example:\n",
    "    \n",
    "class car:  #Name of class is 'car'\n",
    "    car = 'Lambo'\n",
    "    speed = 210\n",
    "    #variables in a class\n",
    "\n",
    "car1 = car()  #car1 is an object of class 'car'\n",
    "    "
   ]
  },
  {
   "cell_type": "code",
   "execution_count": null,
   "id": "7042f6e6-b373-4bc0-a4ab-74398c3830e6",
   "metadata": {},
   "outputs": [],
   "source": [
    "Q.2 Name the four pillars of OOPs.\n",
    "Ans. \n",
    "The Four Pillars of Object Oriented Programming is:\n",
    "    1. Polymorphism\n",
    "    2. Inheritance\n",
    "    3. Encapsulation\n",
    "    4. Abstraction"
   ]
  },
  {
   "cell_type": "code",
   "execution_count": null,
   "id": "9586f54c-3656-4219-8c2d-7ad6dd966103",
   "metadata": {},
   "outputs": [],
   "source": [
    "Q.3 Explain why the __init__() function is used. Give a suitable example.\n",
    "Ans. \n",
    "__init__() function is a constructor used inside a class. It is basically used to initialize the values in a class.\n",
    "\n",
    "class car:\n",
    "    \n",
    "    def __init__(self, Company , Model , Fuel, Mileage):\n",
    "        car.company = Company\n",
    "        car.model = Model\n",
    "        car.fuel = Fuel\n",
    "        car.mileage = Mileage\n",
    "    #__init__ is used to initialize values as in here, Company, Model, Fuel and Mileage is initialized."
   ]
  },
  {
   "cell_type": "code",
   "execution_count": null,
   "id": "4fbce894-f800-433b-a03d-75ee8d1622d2",
   "metadata": {},
   "outputs": [],
   "source": [
    "Q.4 Why self is used in OOPs?\n",
    "Ans. \n",
    "self keyword is used in OOPs in every method we use inside a class. It is used to represent object of any given class.\n",
    "It allows access of methods for each and every class uniquely. "
   ]
  },
  {
   "cell_type": "code",
   "execution_count": null,
   "id": "46f6b97c-c9cb-4309-8166-8de7647725f4",
   "metadata": {},
   "outputs": [],
   "source": [
    "Q5. What is inheritance? Give an example for each type of inheritance.\n",
    "Ans \n",
    "Inheritance is the concept of deriving a new class from an existing class. With this, we can inherit the properties of PARENT class \n",
    "into CHILD class.\n",
    "Two types of Inheritance:\n",
    "    1. Multi-Level Inheritance:\n",
    "        Here , we have one child class which inherits the properties of Parent class. We also have one grand child class which inherits\n",
    "        the properties of child class.\n",
    "    Example:     "
   ]
  },
  {
   "cell_type": "code",
   "execution_count": 1,
   "id": "3e6500be-ec67-478f-99a2-7e8d7018def8",
   "metadata": {},
   "outputs": [],
   "source": [
    "class a:\n",
    "    def test_a():\n",
    "        return \"This is Class-A\"\n",
    "class b(a):\n",
    "    def test_b():\n",
    "        return \"This is Class-B\"\n",
    "class c(b):\n",
    "    pass"
   ]
  },
  {
   "cell_type": "code",
   "execution_count": 2,
   "id": "3219949d-9687-4e95-9db2-4827c6cbccab",
   "metadata": {},
   "outputs": [],
   "source": [
    "obj_c = c"
   ]
  },
  {
   "cell_type": "code",
   "execution_count": 4,
   "id": "eaa784cc-bd2d-4360-9598-cf65448b4439",
   "metadata": {},
   "outputs": [
    {
     "data": {
      "text/plain": [
       "'This is Class-A'"
      ]
     },
     "execution_count": 4,
     "metadata": {},
     "output_type": "execute_result"
    }
   ],
   "source": [
    "c.test_a()"
   ]
  },
  {
   "cell_type": "code",
   "execution_count": 5,
   "id": "0b61bba9-6e26-492e-93d2-f66a5262dbe7",
   "metadata": {},
   "outputs": [
    {
     "data": {
      "text/plain": [
       "'This is Class-B'"
      ]
     },
     "execution_count": 5,
     "metadata": {},
     "output_type": "execute_result"
    }
   ],
   "source": [
    "c.test_b()"
   ]
  },
  {
   "cell_type": "code",
   "execution_count": null,
   "id": "77408275-c94a-43e2-a543-d00f7ebfe7cb",
   "metadata": {},
   "outputs": [],
   "source": [
    "    2. Multiple Inheritance:\n",
    "        Here, we can have one child class which inherits the property of more than one Parent class.\n",
    "        Example:"
   ]
  },
  {
   "cell_type": "code",
   "execution_count": 6,
   "id": "9864665e-cf78-4acc-9a35-05fcb5172c86",
   "metadata": {},
   "outputs": [],
   "source": [
    "class class1:\n",
    "    def test_a():\n",
    "        return \"This is Class-1\"\n",
    "\n",
    "class class2:\n",
    "    def test_b():\n",
    "        return \"This is Class-2\"\n",
    "\n",
    "class class3(class1,class2):\n",
    "    pass\n",
    "        "
   ]
  },
  {
   "cell_type": "code",
   "execution_count": 7,
   "id": "ccd6e8f2-eb0f-4610-bf51-059587f8cb63",
   "metadata": {},
   "outputs": [],
   "source": [
    "obj3 = class3"
   ]
  },
  {
   "cell_type": "code",
   "execution_count": 8,
   "id": "fe23cf55-3e17-40f2-8a18-e44308d8022b",
   "metadata": {},
   "outputs": [
    {
     "data": {
      "text/plain": [
       "'This is Class-1'"
      ]
     },
     "execution_count": 8,
     "metadata": {},
     "output_type": "execute_result"
    }
   ],
   "source": [
    "class3.test_a()"
   ]
  },
  {
   "cell_type": "code",
   "execution_count": 9,
   "id": "10c81017-4c77-433d-bf45-7a6b647bbff6",
   "metadata": {},
   "outputs": [
    {
     "data": {
      "text/plain": [
       "'This is Class-2'"
      ]
     },
     "execution_count": 9,
     "metadata": {},
     "output_type": "execute_result"
    }
   ],
   "source": [
    "class3.test_b()"
   ]
  },
  {
   "cell_type": "code",
   "execution_count": null,
   "id": "04722cad-a745-48a2-960b-ca434e2ce3d2",
   "metadata": {},
   "outputs": [],
   "source": []
  }
 ],
 "metadata": {
  "kernelspec": {
   "display_name": "Python 3 (ipykernel)",
   "language": "python",
   "name": "python3"
  },
  "language_info": {
   "codemirror_mode": {
    "name": "ipython",
    "version": 3
   },
   "file_extension": ".py",
   "mimetype": "text/x-python",
   "name": "python",
   "nbconvert_exporter": "python",
   "pygments_lexer": "ipython3",
   "version": "3.10.8"
  }
 },
 "nbformat": 4,
 "nbformat_minor": 5
}
