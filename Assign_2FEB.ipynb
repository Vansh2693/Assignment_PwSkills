{
 "cells": [
  {
   "cell_type": "code",
   "execution_count": 1,
   "id": "5e13f9d4-c967-4673-b377-0552dbbe7cbc",
   "metadata": {},
   "outputs": [],
   "source": [
    "#Q1. Explain with an example each when to use a for loop and a while loop."
   ]
  },
  {
   "cell_type": "code",
   "execution_count": null,
   "id": "8d9db867-ca4b-4798-87a5-e56f83e82672",
   "metadata": {},
   "outputs": [],
   "source": [
    "For loop is used to iterate a block of code given number of times. Here the iteration number is already known. It is best to use when we know \n",
    "the number of times we want to iterate the block of code.\n",
    "For Example:"
   ]
  },
  {
   "cell_type": "code",
   "execution_count": 3,
   "id": "1b5f01d0-ec33-4983-8f87-e20751ebb1a2",
   "metadata": {},
   "outputs": [
    {
     "name": "stdout",
     "output_type": "stream",
     "text": [
      "P\n",
      "w\n",
      "s\n",
      "k\n",
      "i\n",
      "l\n",
      "l\n",
      "s\n"
     ]
    }
   ],
   "source": [
    "s = \"Pwskills\"\n",
    "for i in s:\n",
    "    print(i)"
   ]
  },
  {
   "cell_type": "code",
   "execution_count": null,
   "id": "961a8cbf-c1d9-4994-911f-c7adabceccf1",
   "metadata": {},
   "outputs": [],
   "source": [
    "While loop is used when we want to iterate a block of code untill our condition becomes false.\n",
    "For example:"
   ]
  },
  {
   "cell_type": "code",
   "execution_count": 1,
   "id": "1c65da64-afba-42b9-a65b-7cb795d08415",
   "metadata": {},
   "outputs": [
    {
     "name": "stdin",
     "output_type": "stream",
     "text": [
      "Enter the number: 5\n"
     ]
    },
    {
     "name": "stdout",
     "output_type": "stream",
     "text": [
      "120\n"
     ]
    }
   ],
   "source": [
    "a = int(input(\"Enter the number:\"))\n",
    "fact = 1\n",
    "while a>0:\n",
    "    fact = fact*a\n",
    "    a = a-1\n",
    "print(fact)"
   ]
  },
  {
   "cell_type": "code",
   "execution_count": null,
   "id": "0f745894-ee7f-48a2-a9d3-6c2051cd3c2d",
   "metadata": {},
   "outputs": [],
   "source": [
    "#Q2. Write a python program to print the sum and product of the first 10 natural numbers using for\n",
    "#and while loop."
   ]
  },
  {
   "cell_type": "code",
   "execution_count": 2,
   "id": "5e5eef2d-4025-44e3-b2e1-345107cbca53",
   "metadata": {},
   "outputs": [
    {
     "name": "stdout",
     "output_type": "stream",
     "text": [
      "55\n"
     ]
    }
   ],
   "source": [
    "#For Loop for sum\n",
    "\n",
    "a = 0\n",
    "for i in range(11):\n",
    "    a =a+i\n",
    "print(a)"
   ]
  },
  {
   "cell_type": "code",
   "execution_count": 5,
   "id": "1b78b44e-28b1-4c25-9907-d26239153044",
   "metadata": {},
   "outputs": [
    {
     "name": "stdout",
     "output_type": "stream",
     "text": [
      "3628800\n"
     ]
    }
   ],
   "source": [
    "#For Loop for product\n",
    "\n",
    "a=1\n",
    "for i in range(1,11):\n",
    "    a = a*i\n",
    "print(a)\n",
    "\n"
   ]
  },
  {
   "cell_type": "code",
   "execution_count": 10,
   "id": "c7799364-13b2-4e38-8abe-4b3e5370ac28",
   "metadata": {},
   "outputs": [
    {
     "name": "stdout",
     "output_type": "stream",
     "text": [
      "55\n"
     ]
    }
   ],
   "source": [
    "# While loop for sum\n",
    "\n",
    "a = 1\n",
    "while a<11:\n",
    "    d = d+a\n",
    "    a = a+1\n",
    "print(d)"
   ]
  },
  {
   "cell_type": "code",
   "execution_count": 11,
   "id": "bf6506e4-06b8-434e-86f0-c7253feacc8e",
   "metadata": {},
   "outputs": [
    {
     "name": "stdout",
     "output_type": "stream",
     "text": [
      "3628800\n"
     ]
    }
   ],
   "source": [
    "#While loop for product\n",
    "\n",
    "a = 1\n",
    "d = 1\n",
    "while a<11:\n",
    "    d = d*a\n",
    "    a = a+1\n",
    "print(d)\n"
   ]
  },
  {
   "cell_type": "code",
   "execution_count": 13,
   "id": "1b9a43e6-9352-4365-9b5a-b7a34277625a",
   "metadata": {},
   "outputs": [],
   "source": [
    "#Q3. Create a python program to compute the electricity bill for a household.\n",
    "#The per-unit charges in rupees are as follows: For the first 100 units, the user will be charged Rs. 4.5 per\n",
    "#unit, for the next 100 units, the user will be charged Rs. 6 per unit, and for the next 100 units, the user will\n",
    "#be charged Rs. 10 per unit, After 300 units and above the user will be charged Rs. 20 per unit.\n",
    "#You are required to take the units of electricity consumed in a month from the user as input."
   ]
  },
  {
   "cell_type": "code",
   "execution_count": 1,
   "id": "9d1ed5d5-6481-44d9-b19a-996e46fe5ebd",
   "metadata": {},
   "outputs": [
    {
     "name": "stdin",
     "output_type": "stream",
     "text": [
      "Enter the number of electricity units consumed in month: 250\n"
     ]
    },
    {
     "name": "stdout",
     "output_type": "stream",
     "text": [
      "The ELectricity Bill: 2500.0\n"
     ]
    }
   ],
   "source": [
    "unit = float(input(\"Enter the number of electricity units consumed in month:\"))\n",
    "charge = 0\n",
    "if unit<=100:\n",
    "    charge = unit*4.5\n",
    "elif unit>100 and unit<=200:\n",
    "    charge = unit*6\n",
    "elif unit>200 and unit<=300:\n",
    "    charge = unit*10\n",
    "else:\n",
    "    charge = unit*20\n",
    "print(\"The ELectricity Bill:\",charge)\n",
    "    "
   ]
  },
  {
   "cell_type": "code",
   "execution_count": 2,
   "id": "de111952-e733-4fc9-938f-3c3a1d4a1fdb",
   "metadata": {},
   "outputs": [],
   "source": [
    "#Q4. Create a list of numbers from 1 to 100. Use for loop and while loop to calculate the cube of each\n",
    "#number and if the cube of that number is divisible by 4 or 5 then append that number in a list and print\n",
    "#that list."
   ]
  },
  {
   "cell_type": "code",
   "execution_count": 3,
   "id": "8bee6109-5ccc-4b71-8d88-f789be965cc9",
   "metadata": {},
   "outputs": [
    {
     "name": "stdout",
     "output_type": "stream",
     "text": [
      "[1, 2, 3, 4, 5, 6, 7, 8, 9, 10, 11, 12, 13, 14, 15, 16, 17, 18, 19, 20, 21, 22, 23, 24, 25, 26, 27, 28, 29, 30, 31, 32, 33, 34, 35, 36, 37, 38, 39, 40, 41, 42, 43, 44, 45, 46, 47, 48, 49, 50, 51, 52, 53, 54, 55, 56, 57, 58, 59, 60, 61, 62, 63, 64, 65, 66, 67, 68, 69, 70, 71, 72, 73, 74, 75, 76, 77, 78, 79, 80, 81, 82, 83, 84, 85, 86, 87, 88, 89, 90, 91, 92, 93, 94, 95, 96, 97, 98, 99, 100]\n"
     ]
    }
   ],
   "source": [
    "lst = []\n",
    "for i in range(1,101):\n",
    "    lst.append(i)\n",
    "print(lst)"
   ]
  },
  {
   "cell_type": "code",
   "execution_count": 5,
   "id": "79185e9b-848b-40df-9d39-befca291463e",
   "metadata": {},
   "outputs": [
    {
     "name": "stdout",
     "output_type": "stream",
     "text": [
      "New List: [64, 125, 512, 1000, 1728, 3375, 4096, 8000, 13824, 15625, 21952, 27000, 32768, 42875, 46656, 64000, 85184, 91125, 110592, 125000, 140608, 166375, 175616, 216000, 262144, 274625, 314432, 343000, 373248, 421875, 438976, 512000, 592704, 614125, 681472, 729000, 778688, 857375, 884736, 1000000]\n"
     ]
    }
   ],
   "source": [
    "#using for loop\n",
    "l1 = []\n",
    "for i in lst:\n",
    "    if i%4==0 or i%5==0:\n",
    "        l1.append(i**3)\n",
    "print(\"New List:\",l1)"
   ]
  },
  {
   "cell_type": "code",
   "execution_count": 6,
   "id": "e59b705e-c3da-4f65-a04c-e77be45550ad",
   "metadata": {},
   "outputs": [
    {
     "name": "stdout",
     "output_type": "stream",
     "text": [
      "New List: [64, 125, 512, 1000, 1728, 3375, 4096, 8000, 13824, 15625, 21952, 27000, 32768, 42875, 46656, 64000, 85184, 91125, 110592, 125000, 140608, 166375, 175616, 216000, 262144, 274625, 314432, 343000, 373248, 421875, 438976, 512000, 592704, 614125, 681472, 729000, 778688, 857375, 884736, 1000000]\n"
     ]
    }
   ],
   "source": [
    "l2 = []\n",
    "i = 0\n",
    "a = len(lst)\n",
    "while a>0:\n",
    "    if lst[i]%4==0 or lst[i]%5==0:\n",
    "        l2.append(lst[i]**3)\n",
    "    a=a-1\n",
    "    i=i+1\n",
    "else:\n",
    "    print(\"New List:\",l2)"
   ]
  },
  {
   "cell_type": "code",
   "execution_count": 7,
   "id": "951e21d3-7864-40ff-af24-08ebaae18297",
   "metadata": {},
   "outputs": [],
   "source": [
    "#Write a program to filter count vowels in the below-given string.\n",
    "#string = \"I want to become a data scientist\""
   ]
  },
  {
   "cell_type": "code",
   "execution_count": 8,
   "id": "89e185fc-95f8-449e-98f6-2d3e01cefaaf",
   "metadata": {},
   "outputs": [
    {
     "name": "stdout",
     "output_type": "stream",
     "text": [
      "Number of Vowels: 12\n"
     ]
    }
   ],
   "source": [
    "s1 = \"I want to become a Data Scientist\"\n",
    "count = 0\n",
    "for a in s1:\n",
    "    if a in ['a','e','i','o','u','A','E','I','O','U']:\n",
    "        count = count+1\n",
    "else:\n",
    "    print(\"Number of Vowels:\",count)\n",
    "    "
   ]
  },
  {
   "cell_type": "code",
   "execution_count": null,
   "id": "8df7fddf-72e4-4af3-a21b-6499163c6d90",
   "metadata": {},
   "outputs": [],
   "source": []
  }
 ],
 "metadata": {
  "kernelspec": {
   "display_name": "Python 3 (ipykernel)",
   "language": "python",
   "name": "python3"
  },
  "language_info": {
   "codemirror_mode": {
    "name": "ipython",
    "version": 3
   },
   "file_extension": ".py",
   "mimetype": "text/x-python",
   "name": "python",
   "nbconvert_exporter": "python",
   "pygments_lexer": "ipython3",
   "version": "3.10.8"
  }
 },
 "nbformat": 4,
 "nbformat_minor": 5
}
