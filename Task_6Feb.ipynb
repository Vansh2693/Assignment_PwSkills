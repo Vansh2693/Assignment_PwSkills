{
 "cells": [
  {
   "cell_type": "code",
   "execution_count": null,
   "id": "3493dfc9-ac49-4b5a-8693-a7deb9edd778",
   "metadata": {},
   "outputs": [],
   "source": [
    "Q1. Create a function which will take a list as an argument and return the product of all the numbers\n",
    "after creating a flat list.\n",
    "Use the below-given list as an argument for your function.\n",
    "list1 = [1,2,3,4, [44,55,66, True], False, (34,56,78,89,34), {1,2,3,3,2,1}, {1:34, \"key2\": [55, 67, 78, 89], 4: (45,\n",
    "22, 61, 34)}, [56, 'data science'], 'Machine Learning']\n",
    "Note: you must extract numeric keys and values of the dictionary also."
   ]
  },
  {
   "cell_type": "code",
   "execution_count": 28,
   "id": "3e13f870-ab34-42ca-a1d5-5cd4d9f1e7c1",
   "metadata": {},
   "outputs": [
    {
     "name": "stdout",
     "output_type": "stream",
     "text": [
      "Product is:\n",
      "214663680\n"
     ]
    }
   ],
   "source": [
    "\n",
    "def prod_ofall(lst):\n",
    "    flat = [b for a in lst for b in (a if isinstance(a ,list) else [a]) ]\n",
    "    prod = 1\n",
    "    for x in flat:\n",
    "        if isinstance(x , (int,float)):\n",
    "            prod*=x\n",
    "    return prod\n",
    "\n",
    "lst1 = [1,2,3,4, [44,55,66, True],(34,56,78,89,34), {1,2,3,3,2,1}, {1:34, \"key2\": [55, 67, 78, 89], 4: (45,\n",
    "22, 61, 34)}, [56, 'data science'], 'Machine Learning']\n",
    "res = prod_ofall(lst1)\n",
    "print(\"Product is:\",res)"
   ]
  },
  {
   "cell_type": "code",
   "execution_count": null,
   "id": "454582e8-ec6c-4644-8188-1ffaf910bec8",
   "metadata": {},
   "outputs": [],
   "source": []
  },
  {
   "cell_type": "code",
   "execution_count": null,
   "id": "9f6e7373-e96a-49a2-b830-e5702a1fae78",
   "metadata": {},
   "outputs": [],
   "source": [
    "Q2. Write a python program for encrypting a message sent to you by your friend. The logic of encryption\n",
    "should be such that, for a the output should be z. For b, the output should be y. For c, the output should\n",
    "be x respectively. Also, the whitespace should be replaced with a dollar sign. Keep the punctuation\n",
    "marks unchanged.\n",
    "Input Sentence: I want to become a Data Scientist.\n",
    "Encrypt the above input sentence using the program you just created.\n",
    "Note: Convert the given input sentence into lowercase before encrypting. The final output should be\n",
    "lowercase."
   ]
  },
  {
   "cell_type": "code",
   "execution_count": 25,
   "id": "dc73e9a2-848f-4cce-b282-f88a88ff29fa",
   "metadata": {},
   "outputs": [
    {
     "name": "stdout",
     "output_type": "stream",
     "text": [
      "Encrypted Message: I$wznt$to$yexome$z$Dztz$Sxientist\n"
     ]
    }
   ],
   "source": [
    "s1 = 'I want to become a Data Scientist'\n",
    "\n",
    "def encrypt(string1):\n",
    "    s2 = \"\"\n",
    "    for x in s1:\n",
    "        if x == 'a':\n",
    "            s2 = s2 + 'z'\n",
    "        elif x == 'b':\n",
    "            s2 =s2 + 'y'\n",
    "        elif x == 'c':\n",
    "            s2 = s2 + 'x'\n",
    "        elif x == ' ':\n",
    "            s2 = s2 + '$'\n",
    "        else:\n",
    "            s2 = s2 + str(x)\n",
    "    print(\"Encrypted Message:\",s2)\n",
    "\n",
    "encrypt(s1)    "
   ]
  },
  {
   "cell_type": "code",
   "execution_count": null,
   "id": "da2d5804-9b07-4194-bc58-30318ef98cb5",
   "metadata": {},
   "outputs": [],
   "source": []
  }
 ],
 "metadata": {
  "kernelspec": {
   "display_name": "Python 3 (ipykernel)",
   "language": "python",
   "name": "python3"
  },
  "language_info": {
   "codemirror_mode": {
    "name": "ipython",
    "version": 3
   },
   "file_extension": ".py",
   "mimetype": "text/x-python",
   "name": "python",
   "nbconvert_exporter": "python",
   "pygments_lexer": "ipython3",
   "version": "3.10.8"
  }
 },
 "nbformat": 4,
 "nbformat_minor": 5
}
