{
 "cells": [
  {
   "cell_type": "code",
   "execution_count": 1,
   "id": "210755e0-2d93-4f61-99c2-9204db740617",
   "metadata": {},
   "outputs": [],
   "source": [
    "#Assignment: 30th Jan 2023"
   ]
  },
  {
   "cell_type": "code",
   "execution_count": 2,
   "id": "2c7dec1f-d68b-4c54-bdfe-74ab6a7edaae",
   "metadata": {},
   "outputs": [],
   "source": [
    "#Q.1\n",
    "#Ans-"
   ]
  },
  {
   "cell_type": "code",
   "execution_count": 4,
   "id": "7c1e9de5-65f8-4340-82e4-7cf67aa860f1",
   "metadata": {},
   "outputs": [
    {
     "name": "stdin",
     "output_type": "stream",
     "text": [
      "Enter Your Marks: 45\n"
     ]
    },
    {
     "name": "stdout",
     "output_type": "stream",
     "text": [
      "GRADE: D\n"
     ]
    }
   ],
   "source": [
    "marks = int(input(\"Enter Your Marks:\"))\n",
    "if marks>90:\n",
    "    print(\"GRADE: A\")\n",
    "elif marks<=90 and marks>80:\n",
    "    print(\"GRADE: B\")\n",
    "elif marks>=80 and marks<=60:\n",
    "    print(\"GRADE: C\")\n",
    "else:\n",
    "    print(\"GRADE: D\")"
   ]
  },
  {
   "cell_type": "code",
   "execution_count": 5,
   "id": "1e49fbde-6956-4092-b39e-35be4b1a6a96",
   "metadata": {},
   "outputs": [
    {
     "name": "stdin",
     "output_type": "stream",
     "text": [
      "Enter Your Marks: 92\n"
     ]
    },
    {
     "name": "stdout",
     "output_type": "stream",
     "text": [
      "GRADE: A\n"
     ]
    }
   ],
   "source": [
    "marks = int(input(\"Enter Your Marks:\"))\n",
    "if marks>90:\n",
    "    print(\"GRADE: A\")\n",
    "elif marks<=90 and marks>80:\n",
    "    print(\"GRADE: B\")\n",
    "elif marks>=80 and marks<=60:\n",
    "    print(\"GRADE: C\")\n",
    "else:\n",
    "    print(\"GRADE: D\")"
   ]
  },
  {
   "cell_type": "code",
   "execution_count": 6,
   "id": "e6ed843a-2be7-493f-a4b2-88ef0f6a0cc8",
   "metadata": {},
   "outputs": [],
   "source": [
    "#Q.2\n",
    "#Ans."
   ]
  },
  {
   "cell_type": "code",
   "execution_count": 8,
   "id": "548449fd-9734-4b23-826d-3d8568adad27",
   "metadata": {},
   "outputs": [
    {
     "name": "stdin",
     "output_type": "stream",
     "text": [
      "Enter the cost price of the bike: 120000\n"
     ]
    },
    {
     "name": "stdout",
     "output_type": "stream",
     "text": [
      "Tax = 15%\n"
     ]
    }
   ],
   "source": [
    "cost = int(input(\"Enter the cost price of the bike:\"))\n",
    "if cost>100000:\n",
    "           print(\"Tax = 15%\")\n",
    "elif cost<=100000 and cost>50000:\n",
    "           print(\"Tax = 10%\")\n",
    "else:\n",
    "           print(\"Tax = 5%\")"
   ]
  },
  {
   "cell_type": "code",
   "execution_count": 9,
   "id": "942c9986-bee1-4925-8980-722171872c34",
   "metadata": {},
   "outputs": [
    {
     "name": "stdin",
     "output_type": "stream",
     "text": [
      "Enter the cost price of the bike: 30000\n"
     ]
    },
    {
     "name": "stdout",
     "output_type": "stream",
     "text": [
      "Tax = 5%\n"
     ]
    }
   ],
   "source": [
    "cost = int(input(\"Enter the cost price of the bike:\"))\n",
    "if cost>100000:\n",
    "           print(\"Tax = 15%\")\n",
    "elif cost<=100000 and cost>50000:\n",
    "           print(\"Tax = 10%\")\n",
    "else:\n",
    "           print(\"Tax = 5%\")"
   ]
  },
  {
   "cell_type": "code",
   "execution_count": 10,
   "id": "cf4c6f56-168f-46d5-84a1-58e61cd1d8df",
   "metadata": {},
   "outputs": [],
   "source": [
    "#Q.3\n",
    "#Ans."
   ]
  },
  {
   "cell_type": "code",
   "execution_count": 11,
   "id": "f4129436-336a-4feb-aeda-709f31b937f1",
   "metadata": {},
   "outputs": [
    {
     "name": "stdin",
     "output_type": "stream",
     "text": [
      "Enter Your City: Delhi\n"
     ]
    },
    {
     "name": "stdout",
     "output_type": "stream",
     "text": [
      "MONUMENT: RED FORT\n"
     ]
    }
   ],
   "source": [
    "city = input(\"Enter Your City:\")\n",
    "if city==\"Delhi\":\n",
    "    print(\"MONUMENT: RED FORT\")\n",
    "elif city==\"Agra\":\n",
    "    print(\"MONUMENT: TAJ MAHAL\")\n",
    "elif city==\"Jaipur\":\n",
    "    print(\"MONUMENT: JAL MAHAL\")"
   ]
  },
  {
   "cell_type": "code",
   "execution_count": 12,
   "id": "49558abc-b02e-43c4-993f-608217f14303",
   "metadata": {},
   "outputs": [
    {
     "name": "stdin",
     "output_type": "stream",
     "text": [
      "Enter Your City: jaipur\n"
     ]
    }
   ],
   "source": [
    "city = input(\"Enter Your City:\")\n",
    "if city==\"Delhi\":\n",
    "    print(\"MONUMENT: RED FORT\")\n",
    "elif city==\"Agra\":\n",
    "    print(\"MONUMENT: TAJ MAHAL\")\n",
    "elif city==\"Jaipur\":\n",
    "    print(\"MONUMENT: JAL MAHAL\")"
   ]
  },
  {
   "cell_type": "code",
   "execution_count": 13,
   "id": "8494582b-890f-4cd2-b302-3a1d495bfa5a",
   "metadata": {},
   "outputs": [
    {
     "name": "stdin",
     "output_type": "stream",
     "text": [
      "Enter Your City: Agra\n"
     ]
    },
    {
     "name": "stdout",
     "output_type": "stream",
     "text": [
      "MONUMENT: TAJ MAHAL\n"
     ]
    }
   ],
   "source": [
    "city = input(\"Enter Your City:\")\n",
    "if city==\"Delhi\":\n",
    "    print(\"MONUMENT: RED FORT\")\n",
    "elif city==\"Agra\":\n",
    "    print(\"MONUMENT: TAJ MAHAL\")\n",
    "elif city==\"Jaipur\":\n",
    "    print(\"MONUMENT: JAL MAHAL\")"
   ]
  },
  {
   "cell_type": "code",
   "execution_count": 14,
   "id": "231b0f65-17b8-4cf4-a680-980e9806bf0b",
   "metadata": {},
   "outputs": [],
   "source": [
    "#Q.4 Check how many times a given number can be divided by 3  before it is less than or equal to 10\n",
    "#Ans."
   ]
  },
  {
   "cell_type": "code",
   "execution_count": 17,
   "id": "de1b89b4-fb6b-4df4-9b4a-277ab4c8a718",
   "metadata": {},
   "outputs": [
    {
     "name": "stdin",
     "output_type": "stream",
     "text": [
      "Enter a number: 9\n"
     ]
    },
    {
     "name": "stdout",
     "output_type": "stream",
     "text": [
      "Quantity of numbers which can be divisible by 3 and are less than 10: 3\n"
     ]
    }
   ],
   "source": [
    "n = int(input(\"Enter a number:\"))\n",
    "a = 0\n",
    "if n<=10:\n",
    "        a = n//3\n",
    "        print(\"Quantity of numbers which can be divisible by 3 and are less than 10:\",a)\n",
    "        "
   ]
  },
  {
   "cell_type": "code",
   "execution_count": null,
   "id": "049b7d59-229d-44e6-9b6a-ab04b58f67b6",
   "metadata": {},
   "outputs": [],
   "source": [
    "#Q.4 Why and when to use While loop in Python give a detailed description.\n",
    "#Ans.\n",
    "While loop is used to execute a  set of statement A unless a condition B is true. Using this single loop we can execute the set of statements again\n",
    "and again untill the condition is true (or) false (or) any given condition.\n",
    "Syntax:\n",
    "    while(condition):\n",
    "        a1\n",
    "        a2\n",
    "        -\n",
    "        -\n",
    "        -\n",
    "        a6\n",
    "        decrement:\n",
    "Example:\n",
    "   "
   ]
  },
  {
   "cell_type": "code",
   "execution_count": 1,
   "id": "b0fab443-c901-49d4-ad94-8bf86f7b35a6",
   "metadata": {},
   "outputs": [
    {
     "name": "stdout",
     "output_type": "stream",
     "text": [
      "1\n",
      "2\n",
      "3\n",
      "4\n",
      "5\n",
      "6\n",
      "7\n",
      "8\n",
      "9\n",
      "10\n"
     ]
    }
   ],
   "source": [
    "#Program to print number form 1 to 10\n",
    "a=1\n",
    "while a<11:\n",
    "    print(a)\n",
    "    a = a+1"
   ]
  },
  {
   "cell_type": "code",
   "execution_count": null,
   "id": "2ca6c82a-6f0d-4d1e-95c9-bbf4093b4018",
   "metadata": {},
   "outputs": [],
   "source": [
    "#Q.7 Reverse a while loop to display numbers from 10 to 1\n",
    "#Ans"
   ]
  },
  {
   "cell_type": "code",
   "execution_count": 2,
   "id": "9d6fdfa6-05ec-44e1-b0a6-45708bbbd344",
   "metadata": {},
   "outputs": [
    {
     "name": "stdout",
     "output_type": "stream",
     "text": [
      "10\n",
      "9\n",
      "8\n",
      "7\n",
      "6\n",
      "5\n",
      "4\n",
      "3\n",
      "2\n",
      "1\n"
     ]
    }
   ],
   "source": [
    "a = 10\n",
    "while a>0:\n",
    "    print(a)\n",
    "    a = a-1"
   ]
  },
  {
   "cell_type": "code",
   "execution_count": null,
   "id": "2da193d1-d7f6-4ca7-9c3c-af846c068d91",
   "metadata": {},
   "outputs": [],
   "source": [
    "#Q.6 Use nested while loop to print 3 different pattern\n",
    "#Ans."
   ]
  },
  {
   "cell_type": "code",
   "execution_count": 1,
   "id": "a9b3d276-3adf-423e-b889-9d981866563f",
   "metadata": {},
   "outputs": [
    {
     "name": "stdout",
     "output_type": "stream",
     "text": [
      "1 2 3 4 \n",
      "1 2 3 4 \n",
      "1 2 3 4 \n",
      "1 2 3 4 \n"
     ]
    }
   ],
   "source": [
    "i = 1\n",
    "while i<=4:\n",
    "    j = 1\n",
    "    while j<=4:\n",
    "        print(j, end=\" \")\n",
    "        j=j+1\n",
    "    print()\n",
    "    i=i+1"
   ]
  },
  {
   "cell_type": "code",
   "execution_count": null,
   "id": "9ec41f90-15b8-4448-bfb9-a495478b788d",
   "metadata": {},
   "outputs": [],
   "source": [
    "i = 1\n",
    "while i<=4:\n",
    "    j = 1\n",
    "    while j<=i:\n",
    "        print(j, end=\" \")\n",
    "        j=j+1\n",
    "    print()\n",
    "    i=i+1"
   ]
  }
 ],
 "metadata": {
  "kernelspec": {
   "display_name": "Python 3 (ipykernel)",
   "language": "python",
   "name": "python3"
  },
  "language_info": {
   "codemirror_mode": {
    "name": "ipython",
    "version": 3
   },
   "file_extension": ".py",
   "mimetype": "text/x-python",
   "name": "python",
   "nbconvert_exporter": "python",
   "pygments_lexer": "ipython3",
   "version": "3.10.8"
  }
 },
 "nbformat": 4,
 "nbformat_minor": 5
}
