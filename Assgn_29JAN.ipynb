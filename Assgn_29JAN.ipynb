{
 "cells": [
  {
   "cell_type": "code",
   "execution_count": 1,
   "id": "4b27880f-cf7c-458a-b389-aa768c696703",
   "metadata": {},
   "outputs": [],
   "source": [
    "#Assignment: 29th Jan 2023"
   ]
  },
  {
   "cell_type": "code",
   "execution_count": null,
   "id": "61bd4606-355d-4908-baf5-51e7b85a09fe",
   "metadata": {},
   "outputs": [],
   "source": [
    "1. Who developed Python Programming Language?\n",
    "Ans. Guido Van Rossum Developed Python.\n",
    "\n",
    "2.Which type of programming does Python support?\n",
    "Ans. Python is a multi-paradigm programming language.It can support Object_Oriented Programming, Structured Programming and mamy more.\n",
    "\n",
    "3.Is Python case sensitive when dealing with identifiers?\n",
    "Ans. Yes, Python is a case sensitive language while dealing with identifiers.\n",
    "\n",
    "4.What is the correct extension of the Python file?\n",
    "Ans. .py extension is the correct extension for the Python file.\n",
    "\n",
    "5.Is python code compiled or interpreted?\n",
    "Ans. Python code is both compiled and intrepreted. Firstly it is compiled and then it is intreprted line by line.\n",
    "\n",
    "6.Name a few blocks of code used to define in Python Language.\n",
    "Ans. Indentation is used to define a block of code in Python Language.\n",
    "\n",
    "7.State a character used to give single-line comments in Python.\n",
    "Ans. '#' is used to give single-line comments in Python.\n",
    "\n",
    "8.Mention functions which can help us to find the version of Python that we are currently working on.\n",
    "Ans. There are two functions that we can use to find the version of Python that we are curently woeking on-\n",
    " 1) import sys\n",
    "    \n",
    "    print(sys.version)\n",
    " \n",
    " 2) import platform\n",
    "    \n",
    "    print(platform.python_version())\n",
    "    \n",
    "9.Python supports the creation of anonymous funcion at runtime, using a construct called Lambda\n",
    "\n",
    "10. What does pip stand for Python?\n",
    "Ans. pip stands for \"Preferred Installer Program\" in Python.\n",
    "\n",
    "11.Mention a few built-in functions in Python.\n",
    "Ans. Few built-in functions in Python-\n",
    "    1. print()\n",
    "    2. type()\n",
    "    3. len()\n",
    "    4. str()\n",
    "    5. list()\n",
    "    6. set()\n",
    "    7. dict()\n",
    "\n",
    "12. What is the maximum possible length of an identifier in Python?    \n",
    "Ans. Maximum Possible length of Identifier = 79 character\n",
    "\n",
    "13. What are the benefits of using Python?\n",
    "Ans. Benefits of using Python - \n",
    "   - Python is an open source platform and it has large active community base.\n",
    "   - It has variety of Libraries.\n",
    "   - It is Object Oriented Programming Language.\n",
    "   - It has user friendly data structures.\n",
    "   - It is both compiled ad intrepreted language.\n",
    "    \n",
    "14. How is Memory managed in Python?\n",
    "Ans. In Python memory allocation and deallocation method is automatic as the Python developers created a garbage collector for Python so that the user does not have to do manual garbage collection.\n",
    "When x = 10 is executed an integer object 10 is created in memory and its reference is assigned to variable x, this is because everything is object in Python.\n",
    "Here ,y = x will create another reference variable y which will refer to the same object because Python optimizes memory utilization by allocation the same object reference to a new variable if the object already exists with the same value.\n",
    "\n",
    "15. Is Indentation required in Python?\n",
    "Ans. Yes , Indentation is required in Python, Indentation differentiates a block of statement from simple statements."
   ]
  }
 ],
 "metadata": {
  "kernelspec": {
   "display_name": "Python 3 (ipykernel)",
   "language": "python",
   "name": "python3"
  },
  "language_info": {
   "codemirror_mode": {
    "name": "ipython",
    "version": 3
   },
   "file_extension": ".py",
   "mimetype": "text/x-python",
   "name": "python",
   "nbconvert_exporter": "python",
   "pygments_lexer": "ipython3",
   "version": "3.10.8"
  }
 },
 "nbformat": 4,
 "nbformat_minor": 5
}
