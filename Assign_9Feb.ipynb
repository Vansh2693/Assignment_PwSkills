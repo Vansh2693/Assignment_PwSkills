{
 "cells": [
  {
   "cell_type": "code",
   "execution_count": null,
   "id": "c7dcc5bf-2a21-472a-ba6c-6ba08daff18e",
   "metadata": {},
   "outputs": [],
   "source": [
    "#Q1, Create a vehicle class with an init method having instance variables as name_of_vehicle, max_speed\n",
    "#and average_of_vehicle."
   ]
  },
  {
   "cell_type": "code",
   "execution_count": 1,
   "id": "51a87265-a2a0-44d1-88a8-d47236d2455a",
   "metadata": {},
   "outputs": [],
   "source": [
    "class vehicle:\n",
    "    \n",
    "    def __init__(self , name_of_vehicle , max_speed , average_of_vehicle):\n",
    "        self.name_of_vehicle = name_of_vehicle\n",
    "        self.max_speed = max_speed\n",
    "        self.average_of_vehicle = average_of_vehicle"
   ]
  },
  {
   "cell_type": "code",
   "execution_count": null,
   "id": "b1d501b3-daf4-4a10-be9f-4c1e06a51e2e",
   "metadata": {},
   "outputs": [],
   "source": [
    "#Q2. Create a child class car from the vehicle class created in Que 1, which will inherit the vehicle class.\n",
    "#Create a method named seating_capacity which takes capacity as an argument and returns the name of\n",
    "#the vehicle and its seating capacity."
   ]
  },
  {
   "cell_type": "code",
   "execution_count": 8,
   "id": "a90ade98-5dfd-46ad-ba84-946ee44fdd43",
   "metadata": {},
   "outputs": [],
   "source": [
    "class car(vehicle):\n",
    "    \n",
    "    def seating_capacity(self , capacity):\n",
    "        return self.name_of_vehicle , capacity\n",
    "    \n",
    "car1 = car(\"Toyota Fortuner\" , 200 , 15)"
   ]
  },
  {
   "cell_type": "code",
   "execution_count": 9,
   "id": "c746b1d1-ede3-497f-927f-b2a479a7a7ea",
   "metadata": {},
   "outputs": [
    {
     "data": {
      "text/plain": [
       "('Toyota Fortuner', 7)"
      ]
     },
     "execution_count": 9,
     "metadata": {},
     "output_type": "execute_result"
    }
   ],
   "source": [
    "car1.seating_capacity(7)"
   ]
  },
  {
   "cell_type": "code",
   "execution_count": null,
   "id": "7cdf4c0a-ea2c-4ace-b9ba-349eecf794d0",
   "metadata": {},
   "outputs": [],
   "source": [
    "Q3. What is multiple inheritance? Write a python code to demonstrate multiple inheritance."
   ]
  },
  {
   "cell_type": "code",
   "execution_count": null,
   "id": "e279a7d9-f5e3-46f8-af51-f3c00f5790bc",
   "metadata": {},
   "outputs": [],
   "source": [
    "Ans. if a child class inherits from more than one class, i.e. this child class is derived from multiple classes, \n",
    "    we call it multiple inheritance in Python.\n",
    "    Program:"
   ]
  },
  {
   "cell_type": "code",
   "execution_count": 17,
   "id": "e908c0b4-3660-435b-b1d6-161a43960798",
   "metadata": {},
   "outputs": [],
   "source": [
    "class test1:\n",
    "    \n",
    "    def meth1(self):\n",
    "        print(\"This is class : test1\")\n",
    "\n",
    "class test2:\n",
    "    \n",
    "    def meth2(self):\n",
    "        print(\"This is class : test2\")\n",
    "    \n",
    "class test_main(test1, test2):\n",
    "    \n",
    "    def meth_main(self):\n",
    "        print(\"This is main class\")"
   ]
  },
  {
   "cell_type": "code",
   "execution_count": 18,
   "id": "46237b79-6dd3-450e-b097-503aeb0a2cf4",
   "metadata": {},
   "outputs": [],
   "source": [
    "test_main_obj = test_main()"
   ]
  },
  {
   "cell_type": "code",
   "execution_count": 19,
   "id": "bf4da542-f1fd-4c07-b00e-9987f46f5f21",
   "metadata": {},
   "outputs": [
    {
     "name": "stdout",
     "output_type": "stream",
     "text": [
      "This is main class\n"
     ]
    }
   ],
   "source": [
    "a = test_main_obj.meth_main()"
   ]
  },
  {
   "cell_type": "code",
   "execution_count": 20,
   "id": "031e34a9-405d-4755-ae5e-1d8d6b1efdcb",
   "metadata": {},
   "outputs": [
    {
     "name": "stdout",
     "output_type": "stream",
     "text": [
      "This is class : test1\n"
     ]
    }
   ],
   "source": [
    "test_main_obj.meth1()"
   ]
  },
  {
   "cell_type": "code",
   "execution_count": 21,
   "id": "088c5628-2b7b-4ac3-835b-829e58439908",
   "metadata": {},
   "outputs": [
    {
     "name": "stdout",
     "output_type": "stream",
     "text": [
      "This is class : test2\n"
     ]
    }
   ],
   "source": [
    "test_main_obj.meth2()"
   ]
  },
  {
   "cell_type": "code",
   "execution_count": null,
   "id": "9f5a2175-dcbb-4c40-95c4-bbca7c824dad",
   "metadata": {},
   "outputs": [],
   "source": [
    "Q4. What are getter and setter in python? Create a class and create a getter and a setter method in this\n",
    "class."
   ]
  },
  {
   "cell_type": "code",
   "execution_count": 22,
   "id": "a4876d2e-93c8-4f8a-b7dc-673e7fcefa31",
   "metadata": {},
   "outputs": [
    {
     "name": "stdout",
     "output_type": "stream",
     "text": [
      "19\n",
      "19\n"
     ]
    }
   ],
   "source": [
    "class Get_Set:   \n",
    "    def __init__(self, age = 20):   \n",
    "         self._age = age      \n",
    "    def get_age(self):   \n",
    "        return self._age      \n",
    "    def set_age(self, a):   \n",
    "        self._age = a   \n",
    "    \n",
    "get_set = Get_Set()\n",
    "get_set.set_age(19)  \n",
    "print(get_set.get_age())   \n",
    "print(get_set._age)"
   ]
  },
  {
   "cell_type": "code",
   "execution_count": null,
   "id": "ac67efae-3165-4296-b01a-cca556831844",
   "metadata": {},
   "outputs": [],
   "source": [
    "Q5.What is method overriding in python? Write a python code to demonstrate method overriding."
   ]
  },
  {
   "cell_type": "code",
   "execution_count": null,
   "id": "40eac1e1-58f9-4590-aa8f-601591b29d7f",
   "metadata": {},
   "outputs": [],
   "source": [
    "When a child class method overrides(or, provides it's own implementation) the parent class method of the same name, parameters and return type, \n",
    "it is known as method overriding. I is closely related to inheritance.\n",
    "Example:"
   ]
  },
  {
   "cell_type": "code",
   "execution_count": null,
   "id": "a726d07a-b68c-4744-b5df-7b8dd8848c4b",
   "metadata": {},
   "outputs": [],
   "source": [
    "class Shape:\n",
    "    data1 = \"abc\"\n",
    "\n",
    "    def no_of_sides(self):\n",
    "        print(\"My sides need to be defined. I am from shape class.\")\n",
    "\n",
    "    # function two_dimensional \n",
    "    def two_dimensional(self):\n",
    "        print(\"I am a 2D object. I am from shape class\")"
   ]
  }
 ],
 "metadata": {
  "kernelspec": {
   "display_name": "Python 3 (ipykernel)",
   "language": "python",
   "name": "python3"
  },
  "language_info": {
   "codemirror_mode": {
    "name": "ipython",
    "version": 3
   },
   "file_extension": ".py",
   "mimetype": "text/x-python",
   "name": "python",
   "nbconvert_exporter": "python",
   "pygments_lexer": "ipython3",
   "version": "3.10.8"
  }
 },
 "nbformat": 4,
 "nbformat_minor": 5
}
